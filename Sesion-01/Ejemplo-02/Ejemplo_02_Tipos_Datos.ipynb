{
 "cells": [
  {
   "cell_type": "markdown",
   "id": "8a245e92",
   "metadata": {},
   "source": [
    "# Tipos de Datos en Python\n",
    "\n",
    "En este notebook, exploraremos los principales tipos de datos disponibles en Python y cómo utilizarlos. Estos tipos de datos son fundamentales para cualquier tipo de programación en Python, ya que permiten que el programador defina la naturaleza de los datos con los que se trabajará.\n"
   ]
  },
  {
   "cell_type": "markdown",
   "id": "3312aabf",
   "metadata": {},
   "source": [
    "## 1. Números\n",
    "Python soporta diferentes tipos de números. Usaremos tres tipos principales: `int`, `float`, y `complex`."
   ]
  },
  {
   "cell_type": "markdown",
   "id": "44cbf3d0",
   "metadata": {},
   "source": [
    "### Enteros (`int`)\n",
    "Los enteros son números sin parte decimal. Pueden ser positivos o negativos."
   ]
  },
  {
   "cell_type": "code",
   "execution_count": 1,
   "id": "62fd568b",
   "metadata": {},
   "outputs": [
    {
     "name": "stdout",
     "output_type": "stream",
     "text": [
      "5 <class 'int'>\n"
     ]
    }
   ],
   "source": [
    "# Declaramos una variable de tipo entero\n",
    "x = 5\n",
    "print(x, type(x))"
   ]
  },
  {
   "cell_type": "markdown",
   "id": "7828a20c",
   "metadata": {},
   "source": [
    "### Números de Punto Flotante (`float`)\n",
    "Los flotantes representan números reales; incluyen parte decimal o son escritos en notación exponencial."
   ]
  },
  {
   "cell_type": "code",
   "execution_count": 2,
   "id": "60098186",
   "metadata": {},
   "outputs": [
    {
     "name": "stdout",
     "output_type": "stream",
     "text": [
      "3.14 <class 'float'>\n"
     ]
    }
   ],
   "source": [
    "# Declaramos una variable de tipo flotante.\n",
    "y = 3.14\n",
    "print(y, type(y))"
   ]
  },
  {
   "cell_type": "markdown",
   "id": "903a4555",
   "metadata": {},
   "source": [
    "### Números Complejos (`complex`)\n",
    "Los números complejos tienen una parte real y una parte imaginaria."
   ]
  },
  {
   "cell_type": "code",
   "execution_count": 3,
   "id": "7749d55a",
   "metadata": {},
   "outputs": [
    {
     "name": "stdout",
     "output_type": "stream",
     "text": [
      "(3+4j) <class 'complex'>\n"
     ]
    }
   ],
   "source": [
    "# Declaramos una variable de tipo complejo.\n",
    "z = 3 + 4j\n",
    "print(z, type(z))"
   ]
  },
  {
   "cell_type": "markdown",
   "id": "546e8214",
   "metadata": {},
   "source": [
    "## 2. Cadenas de Caracteres (Strings)\n",
    "Las cadenas son secuencias de caracteres utilizadas para almacenar texto."
   ]
  },
  {
   "cell_type": "code",
   "execution_count": 4,
   "id": "53781df7",
   "metadata": {},
   "outputs": [
    {
     "name": "stdout",
     "output_type": "stream",
     "text": [
      "Hola, mundo! <class 'str'>\n"
     ]
    }
   ],
   "source": [
    "# Declaramos una variable de tipo texto.\n",
    "cadena = \"Hola, mundo!\"\n",
    "print(cadena, type(cadena))"
   ]
  },
  {
   "cell_type": "markdown",
   "id": "69e95266",
   "metadata": {},
   "source": [
    "## 3. Booleanos\n",
    "Python soporta valores booleanos típicos, que son `True` y `False`."
   ]
  },
  {
   "cell_type": "code",
   "execution_count": 5,
   "id": "50c5cd1a",
   "metadata": {},
   "outputs": [
    {
     "name": "stdout",
     "output_type": "stream",
     "text": [
      "True <class 'bool'>\n",
      "False <class 'bool'>\n"
     ]
    }
   ],
   "source": [
    "# Declaramos dos variables de tipo booleano.\n",
    "verdadero = True\n",
    "falso = False\n",
    "print(verdadero, type(verdadero))\n",
    "print(falso, type(falso))"
   ]
  },
  {
   "cell_type": "markdown",
   "id": "2dbb998a",
   "metadata": {},
   "source": [
    "En los proximos retos veremos como aplicar el uso de declaracion de variables de forma correcta asi como la implementacion de diferentes tipos de datos, esto con el fin de desarrollar una solucion de forma correcta y eficiente."
   ]
  }
 ],
 "metadata": {
  "kernelspec": {
   "display_name": "Python 3",
   "language": "python",
   "name": "python3"
  },
  "language_info": {
   "codemirror_mode": {
    "name": "ipython",
    "version": 3
   },
   "file_extension": ".py",
   "mimetype": "text/x-python",
   "name": "python",
   "nbconvert_exporter": "python",
   "pygments_lexer": "ipython3",
   "version": "3.10.10"
  }
 },
 "nbformat": 4,
 "nbformat_minor": 5
}
