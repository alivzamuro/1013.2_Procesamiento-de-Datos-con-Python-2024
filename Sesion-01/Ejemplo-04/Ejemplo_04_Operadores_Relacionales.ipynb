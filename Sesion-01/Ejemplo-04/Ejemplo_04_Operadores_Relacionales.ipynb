{
 "cells": [
  {
   "cell_type": "markdown",
   "metadata": {},
   "source": [
    "# Tipos de operadores relacionales en Python\n",
    "\n",
    "Los operadores relacionales en Python son utilizados para comparar valores. El resultado de una comparación es un valor booleano (`True` o `False`) que puede ser utilizado para controlar el flujo de ejecución en programas.\n",
    "\n",
    "- `==` (igual que)\n",
    "- `!=` (diferente de)\n",
    "- `>` (mayor que)\n",
    "- `<` (menor que)\n",
    "- `>=` (mayor o igual que)\n",
    "- `<=` (menor o igual que)"
   ]
  },
  {
   "cell_type": "markdown",
   "metadata": {},
   "source": [
    "### Ejemplo de `==` (Igual Que)"
   ]
  },
  {
   "cell_type": "code",
   "execution_count": 1,
   "metadata": {},
   "outputs": [
    {
     "name": "stdout",
     "output_type": "stream",
     "text": [
      "True\n",
      "True\n",
      "False\n"
     ]
    }
   ],
   "source": [
    "# Comparar dos números\n",
    "print(10 == 10)  # Salida: True\n",
    "\n",
    "# Comparar dos cadenas\n",
    "print(\"hola\" == \"hola\")  # Salida: True\n",
    "\n",
    "# Comparar números diferentes\n",
    "print(10 == 20)  # Salida: False"
   ]
  },
  {
   "cell_type": "markdown",
   "metadata": {},
   "source": [
    "Este operador verifica si los valores de ambos lados son iguales."
   ]
  },
  {
   "cell_type": "markdown",
   "metadata": {},
   "source": [
    "### Ejemplo de `!=` (Diferente De)"
   ]
  },
  {
   "cell_type": "code",
   "execution_count": 2,
   "metadata": {},
   "outputs": [
    {
     "name": "stdout",
     "output_type": "stream",
     "text": [
      "True\n",
      "True\n",
      "False\n"
     ]
    }
   ],
   "source": [
    "# Comparar dos números\n",
    "print(10 != 5)  # Salida: True\n",
    "\n",
    "# Comparar dos cadenas\n",
    "print(\"hola\" != \"adios\")  # Salida: True\n",
    "\n",
    "# Comparar dos números iguales\n",
    "print(10 != 10)  # Salida: False"
   ]
  },
  {
   "cell_type": "markdown",
   "metadata": {},
   "source": [
    "Este operador verifica si los valores de ambos lados son diferentes."
   ]
  },
  {
   "cell_type": "markdown",
   "metadata": {},
   "source": [
    "### Ejemplo de `>` (Mayor Que)"
   ]
  },
  {
   "cell_type": "code",
   "execution_count": null,
   "metadata": {},
   "outputs": [],
   "source": [
    "# Comparar números\n",
    "print(15 > 10)  # Salida: True\n",
    "\n",
    "# Comparar caracteres\n",
    "print('b' > 'a')  # Salida: True\n",
    "\n",
    "# Intentar comparar diferentes tipos (puede generar error)\n",
    "print('1' > 1)  # Genera TypeError en Python 3"
   ]
  },
  {
   "cell_type": "markdown",
   "metadata": {},
   "source": [
    "Este operador verifica si el valor del lado izquierdo es mayor que el del derecho."
   ]
  },
  {
   "cell_type": "markdown",
   "metadata": {},
   "source": [
    "### Ejemplo de `<` (Menor Que)"
   ]
  },
  {
   "cell_type": "markdown",
   "metadata": {},
   "source": [
    "# Comparar números\n",
    "print(10 < 20)  # Salida: True\n",
    "\n",
    "# Comparar caracteres\n",
    "print('a' < 'b')  # Salida: True"
   ]
  },
  {
   "cell_type": "markdown",
   "metadata": {},
   "source": [
    "Este operador verifica si el valor del lado izquierdo es menor que el del derecho."
   ]
  },
  {
   "cell_type": "markdown",
   "metadata": {},
   "source": [
    "### Ejemplo de `>=` (Mayor o Igual Que)"
   ]
  },
  {
   "cell_type": "code",
   "execution_count": null,
   "metadata": {},
   "outputs": [],
   "source": [
    "# Comparar números\n",
    "print(10 >= 10)  # Salida: True\n",
    "print(10 >= 5)   # Salida: True\n",
    "\n",
    "# Comparar caracteres\n",
    "print('a' >= 'a')  # Salida: True"
   ]
  },
  {
   "cell_type": "markdown",
   "metadata": {},
   "source": [
    "Este operador verifica si el valor del lado izquierdo es mayor o igual al del derecho."
   ]
  },
  {
   "cell_type": "markdown",
   "metadata": {},
   "source": [
    "### Ejemplo de `<=` (Menor o Igual Que)"
   ]
  },
  {
   "cell_type": "code",
   "execution_count": null,
   "metadata": {},
   "outputs": [],
   "source": [
    "# Comparar números\n",
    "print(5 <= 5)  # Salida: True\n",
    "print(5 <= 10)  # Salida: True\n",
    "\n",
    "# Comparar caracteres\n",
    "print('a' <= 'b')  # Salida: True"
   ]
  },
  {
   "cell_type": "markdown",
   "metadata": {},
   "source": [
    "Este operador verifica si el valor del lado izquierdo es menor o igual al del derecho."
   ]
  },
  {
   "cell_type": "markdown",
   "metadata": {},
   "source": [
    "🔥Estan preparados para el siguiente Reto?"
   ]
  }
 ],
 "metadata": {
  "kernelspec": {
   "display_name": "Python 3",
   "language": "python",
   "name": "python3"
  },
  "language_info": {
   "codemirror_mode": {
    "name": "ipython",
    "version": 3
   },
   "file_extension": ".py",
   "mimetype": "text/x-python",
   "name": "python",
   "nbconvert_exporter": "python",
   "pygments_lexer": "ipython3",
   "version": "3.10.10"
  }
 },
 "nbformat": 4,
 "nbformat_minor": 2
}
