{
  "cells": [
    {
      "cell_type": "markdown",
      "metadata": {},
      "source": [
        "# Uso de variables en python y buenas prácticas de nomenclatura"
      ]
    },
    {
      "cell_type": "markdown",
      "metadata": {},
      "source": [
        "En este notebook, exploraremos cómo declarar y utilizar variables en Python siguiendo buenas prácticas de nomenclatura."
      ]
    },
    {
      "cell_type": "markdown",
      "metadata": {},
      "source": [
        "## Definición y declaración de variables"
      ]
    },
    {
      "cell_type": "code",
      "execution_count": 2,
      "metadata": {},
      "outputs": [],
      "source": [
        "# Declaración de variables simples\n",
        "numero = 10\n",
        "texto = \"Hola Mundo\"\n",
        "decimal = 10.5\n",
        "valor_logico = True"
      ]
    },
    {
      "cell_type": "markdown",
      "metadata": {},
      "source": [
        "En Python, las variables son dinámicas, lo que significa que no es necesario especificar un tipo de dato al declararlas, ya que el tipo se infiere en el momento de la asignación. Además, las variables en Python son case-sensitive, por lo que nombre y Nombre se consideran dos variables completamente distintas. De igual manera, el valor de una variable puede ser reasignado en cualquier momento y sin importar su tipo original, incluso durante el tiempo de ejecución."
      ]
    },
    {
      "cell_type": "code",
      "execution_count": 4,
      "metadata": {},
      "outputs": [
        {
          "name": "stdout",
          "output_type": "stream",
          "text": [
            "El valor de la variable numero es: 20\n",
            "El valor de la variable texto es: Hola Mundo 2\n",
            "El valor de la variable decimal es: 20.5\n",
            "El valor de la variable valor_logico es: False\n",
            "-------------------------------------------------\n",
            "El nuevo valor de la variable numero es: 9876514321354654\n",
            "El nuevo valor de la variable texto es: \"Hola Estudiantes de BEDU.\"\n",
            "El nuevo valor de la variable decimal es: 3.14159265359\n",
            "El nuevo valor de la variable valor_logico es: None\n"
          ]
        }
      ],
      "source": [
        "# Ejemplo de reasignación de variables\n",
        "numero = 20\n",
        "texto = \"Hola Mundo 2\"\n",
        "decimal = 20.5\n",
        "valor_logico = False\n",
        "\n",
        "# Impresión de variables\n",
        "# Print f.\n",
        "print(f\"El valor de la variable numero es: {numero}\")\n",
        "print(f\"El valor de la variable texto es: {texto}\")\n",
        "print(f\"El valor de la variable decimal es: {decimal}\")\n",
        "print(f\"El valor de la variable valor_logico es: {valor_logico}\")\n",
        "\n",
        "print(\"-------------------------------------------------\")\n",
        "\n",
        "# Reasignación de valores de variables.\n",
        "numero = 9876514321354654\n",
        "texto = \"Hola Estudiantes de BEDU.\"\n",
        "decimal = 3.14159265359\n",
        "valor_logico = None # None es un tipo de dato especial que representa la ausencia de valor.\n",
        "\n",
        "# Impresión de variables\n",
        "# Print f.\n",
        "print(f\"El nuevo valor de la variable numero es: {numero}\")\n",
        "print(f\"El nuevo valor de la variable texto es: \\\"{texto}\\\" \") # Se puede escapar el caracter de comillas dobles con \\\"\n",
        "print(f\"El nuevo valor de la variable decimal es: {decimal}\")\n",
        "print(f\"El nuevo valor de la variable valor_logico es: {valor_logico}\")"
      ]
    },
    {
      "cell_type": "markdown",
      "metadata": {},
      "source": [
        "## Buenas prácticas de nomenclatura"
      ]
    },
    {
      "cell_type": "code",
      "execution_count": null,
      "metadata": {},
      "outputs": [],
      "source": [
        "# Uso de snake_case para variables\n",
        "nombre_completo = 'Juan Pérez'\n",
        "edad_usuario = 34\n",
        "estatura_usuario = 1.70"
      ]
    },
    {
      "cell_type": "markdown",
      "metadata": {},
      "source": [
        "Es recomendable usar nombres descriptivos para las variables para hacer el código más legible y mantenible."
      ]
    },
    {
      "cell_type": "markdown",
      "metadata": {},
      "source": [
        "## Ejemplos adicionales"
      ]
    },
    {
      "cell_type": "code",
      "execution_count": null,
      "metadata": {},
      "outputs": [],
      "source": [
        "#Variables de tipo `str` (Cadena de Texto)\n",
        "nombre = \"Juan Pérez\"\n",
        "ciudad = \"Ciudad de México\"\n",
        "email = \"juan.perez@example.com\"\n",
        "marca_coche = \"Toyota\"\n",
        "tipo_sangre = \"O+\""
      ]
    },
    {
      "cell_type": "code",
      "execution_count": null,
      "metadata": {},
      "outputs": [],
      "source": [
        "# Variables de tipo `int` (Entero)\n",
        "edad = 30\n",
        "numero_calle = 1234\n",
        "codigo_postal = 28080\n",
        "cantidad_productos = 50\n",
        "puntaje_juego = 1230"
      ]
    },
    {
      "cell_type": "code",
      "execution_count": null,
      "metadata": {},
      "outputs": [],
      "source": [
        "# Variables de tipo `float` (Flotante)\n",
        "altura = 1.75  # Altura en metros\n",
        "peso = 70.5  # Peso en kilogramos\n",
        "precio = 19.99  # Precio en dólares\n",
        "temperatura = 36.6  # Temperatura corporal en grados Celsius\n",
        "latitud = 19.432608  # Latitud geográfica"
      ]
    },
    {
      "cell_type": "code",
      "execution_count": null,
      "metadata": {},
      "outputs": [],
      "source": [
        "# Variables de tipo `bool` (Booleano)\n",
        "es_estudiante = True\n",
        "tiene_licencia = False\n",
        "es_mayor_de_edad = True\n",
        "primer_acceso = False\n",
        "activo = True"
      ]
    },
    {
      "cell_type": "markdown",
      "metadata": {},
      "source": [
        "Cada variable debe tener un nombre que claramente indique qué datos contiene y cómo se utilizará, evitando abreviaturas no claras o nombres genéricos.\n",
        "\n",
        "Esto sera especialmente útil cuando tengamos que leer nuestro código en el futuro o cuando trabajemos en equipo."
      ]
    },
    {
      "cell_type": "markdown",
      "metadata": {},
      "source": [
        "🔥Estan preparados para el siguiente Reto?"
      ]
    }
  ],
  "metadata": {
    "kernelspec": {
      "display_name": "Python 3",
      "name": "python3"
    },
    "language_info": {
      "codemirror_mode": {
        "name": "ipython",
        "version": 3
      },
      "file_extension": ".py",
      "mimetype": "text/x-python",
      "name": "python",
      "nbconvert_exporter": "python",
      "pygments_lexer": "ipython3",
      "version": "3.10.10"
    }
  },
  "nbformat": 4,
  "nbformat_minor": 2
}
