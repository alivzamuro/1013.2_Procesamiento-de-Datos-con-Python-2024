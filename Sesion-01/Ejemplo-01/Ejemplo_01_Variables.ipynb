{
  "cells": [
    {
      "cell_type": "markdown",
      "metadata": {},
      "source": [
        "# Uso de variables en python y buenas prácticas de nomenclatura"
      ]
    },
    {
      "cell_type": "markdown",
      "metadata": {},
      "source": [
        "En este notebook, exploraremos cómo declarar y utilizar variables en Python siguiendo buenas prácticas de nomenclatura."
      ]
    },
    {
      "cell_type": "markdown",
      "metadata": {},
      "source": [
        "## Definición y declaración de variables"
      ]
    },
    {
      "cell_type": "code",
      "execution_count": 2,
      "metadata": {},
      "outputs": [],
      "source": [
        "# Declaración de variables simples\n",
        "numero = 10\n",
        "texto = \"Hola Mundo\"\n",
        "decimal = 10.5\n",
        "valor_logico = True"
      ]
    },
    {
      "cell_type": "markdown",
      "metadata": {},
      "source": [
        "Las variables en python son dinámicas, lo que significa que no necesitas especificar un tipo de dato al declararlas. El tipo se infiere en el momento de la asignación."
      ]
    },
    {
      "cell_type": "markdown",
      "metadata": {},
      "source": [
        "## Buenas prácticas de nomenclatura"
      ]
    },
    {
      "cell_type": "code",
      "execution_count": null,
      "metadata": {},
      "outputs": [],
      "source": [
        "# Uso de snake_case para variables\n",
        "nombre_completo = 'Juan Pérez'\n",
        "edad_usuario = 34"
      ]
    },
    {
      "cell_type": "markdown",
      "metadata": {},
      "source": [
        "Es recomendable usar nombres descriptivos para las variables para hacer el código más legible y mantenible."
      ]
    },
    {
      "cell_type": "markdown",
      "metadata": {},
      "source": [
        "## Ejemplos adicionales"
      ]
    },
    {
      "cell_type": "code",
      "execution_count": null,
      "metadata": {},
      "outputs": [],
      "source": [
        "# Más ejemplos de buenas prácticas\n",
        "temperatura_ambiente = 22.5\n",
        "presion_atmosferica = 101.3"
      ]
    },
    {
      "cell_type": "markdown",
      "metadata": {},
      "source": [
        "Cada variable debe tener un nombre que claramente indique qué datos contiene y cómo se utilizará, evitando abreviaturas no claras o nombres genéricos.\n",
        "\n",
        "Esto sera especialmente útil cuando tengamos que leer nuestro código en el futuro o cuando trabajemos en equipo."
      ]
    }
  ],
  "metadata": {
    "kernelspec": {
      "display_name": "Python 3",
      "name": "python3"
    },
    "language_info": {
      "codemirror_mode": {
        "name": "ipython",
        "version": 3
      },
      "file_extension": ".py",
      "mimetype": "text/x-python",
      "name": "python",
      "nbconvert_exporter": "python",
      "pygments_lexer": "ipython3",
      "version": "3.10.10"
    }
  },
  "nbformat": 4,
  "nbformat_minor": 2
}
