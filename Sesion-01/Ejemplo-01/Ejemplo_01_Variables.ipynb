
{
  "cells": [
    {
      "cell_type": "markdown",
      "metadata": {},
      "source": [
        "# Procesamiento de datos con Python - Ejemplo 01: Variables\n",
        "## 🎯 Objetivo\n",
        "Aplicar los principios básicos y convenciones para establecer una variable en Python.\n",
        "## 📂 Organización de la sesión\n",
        "### Uso de Variables en Python y Buenas Prácticas de Nomenclatura\n",
        "**Definición de Variables:**\n",
        "En Python, una variable es un nombre que se refiere a un objeto que reside en la memoria. Las variables se utilizan para almacenar datos, manipular valores y facilitar la legibilidad y mantenimiento del código.\n",
        "**Declaración de Variables:**\n",
        "Crear o declarar variables en Python es sencillo, no necesitas especificar un tipo de dato. Python utiliza tipado dinámico, lo que significa que el tipo de una variable se determina automáticamente cuando se le asigna un valor.\n",
        "```python\n",
        "# Ejemplo de declaración de variables\n",
        "numero = 10\n",
        "mensaje = \"Hola, Python!\"\n",
        "```\n",
        "**Buenas Prácticas para Nombrar Variables:**\n",
        "1. **Claridad y Descriptividad:** Las variables deben tener nombres descriptivos para hacer el código más entendible. Por ejemplo, `edad` es mejor que `e`, y `nombre_completo` mejor que `nc`.\n",
        "2. **Uso de `snake_case`:** Python favorece el uso de `snake_case` para nombrar variables. Esto significa escribir nombres en minúsculas con palabras separadas por guiones bajos.\n",
        "```python\n",
        "# Buen ejemplo de snake_case\n",
        "contador_de_usuarios = 50\n",
        "velocidad_maxima = 120\n",
        "```\n",
        "3. **Evitar Nombres Confusos:** No uses nombres que ya tengan un significado importante en Python, como `list` o `str`.\n",
        "4. **Consistencia:** Mantén un estilo consistente a lo largo de todo tu código. Si comienzas usando `snake_case`, sigue usándolo en todo el proyecto.\n",
        "### Ejercicios\n",
        "#### Ejercicio 1 - Declaración de Variables\n",
        "Declara dos variables: una con el nombre `temperatura_ambiente` y asignale el valor 24.5, y otra con el nombre `descripcion_del_dia` y asignale la cadena 'Soleado'. Luego imprime ambos valores.\n",
        "```python\n",
        "temperatura_ambiente = 24.5\n",
        "descripcion_del_dia = \"Soleado\"\n",
        "print(f'Temperatura: {temperatura_ambiente}, Descripción: {descripcion_del_dia}')\n",
        "```\n",
        "#### Ejercicio 2 - Mejorando Nomenclatura\n",
        "Tienes las siguientes variables mal nombradas: `T1`, `info`, y `d`. Cambia los nombres a `tiempo_de_espera`, `informacion_completa`, y `documento`.\n",
        "```python\n",
        "tiempo_de_espera = T1\n",
        "informacion_completa = info\n",
        "documento = d\n",
        "```"
      ]
    }
  ],
  "metadata": {
    "kernelspec": {
      "name": "python3",
      "display_name": "Python 3"
    },
    "language_info": {
      "name": "python"
    }
  },
  "nbformat": 4,
  "nbformat_minor": 2
}
