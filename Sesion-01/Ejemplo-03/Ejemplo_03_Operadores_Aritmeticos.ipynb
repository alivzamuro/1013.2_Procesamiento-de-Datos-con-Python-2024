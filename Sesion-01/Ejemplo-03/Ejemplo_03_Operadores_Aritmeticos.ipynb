{
 "cells": [
  {
   "cell_type": "markdown",
   "id": "554528e8",
   "metadata": {},
   "source": [
    "Operadores aritméticos.\n",
    "=======================\n",
    "Los operadores aritméticos o arithmetic operators son los más comunes que nos podemos encontrar, y nos permiten realizar operaciones matematicas sencillas, como pueden ser la suma, resta o exponente. A continuación, se muestra en la siguiente tabla algunos ejemplos, donde x=10 y y=3."
   ]
  },
  {
   "cell_type": "markdown",
   "id": "d27c68ed",
   "metadata": {},
   "source": [
    "| Operador | Nombre         | Ejemplo         |\n",
    "|----------|----------------|-----------------|\n",
    "| `+`      | Suma           | `x + y = 13`    |\n",
    "| `-`      | Resta          | `x - y = 7`     |\n",
    "| `*`      | Multiplicación | `x * y = 30`    |\n",
    "| `/`      | División       | `x / y = 3.333` |\n",
    "| `%`      | Módulo         | `x % y = 1`     |\n",
    "| `**`     | Exponente      | `x ** y = 1000` |\n",
    "| `//`     | Cociente       | `x // y = 3`    |\n"
   ]
  },
  {
   "cell_type": "code",
   "execution_count": 1,
   "id": "bc6a3c39",
   "metadata": {},
   "outputs": [
    {
     "name": "stdout",
     "output_type": "stream",
     "text": [
      "Operadores aritméticos\n",
      "x+y = 13\n",
      "x-y = 7\n",
      "x*y = 30\n",
      "x/y = 3.3333333333333335\n",
      "x%y = 1\n",
      "x**y = 1000\n",
      "x//y = 3\n"
     ]
    }
   ],
   "source": [
    "x = 10; y = 3\n",
    "print(\"Operadores aritméticos\")\n",
    "print(\"x+y =\", x+y)   #13\n",
    "print(\"x-y =\", x-y)   #7\n",
    "print(\"x*y =\", x*y)   #30\n",
    "print(\"x/y =\", x/y)   #3.3333333333333335\n",
    "print(\"x%y =\", x%y)   #1\n",
    "print(\"x**y =\", x**y) #1000\n",
    "print(\"x//y =\", x//y) #3"
   ]
  },
  {
   "cell_type": "markdown",
   "id": "41988a73",
   "metadata": {},
   "source": [
    "Operador +\n",
    "=======================\n",
    "El operador + suma los números presentes a la izquierda y derecha del operador. Recalcamos lo de números porque no tendría sentido sumar dos cadenas de texto, pero en Python es posible hacer este tipo de cosas."
   ]
  },
  {
   "cell_type": "code",
   "execution_count": 4,
   "id": "8dba59b3",
   "metadata": {},
   "outputs": [
    {
     "name": "stdout",
     "output_type": "stream",
     "text": [
      "22\n",
      "120.5\n"
     ]
    }
   ],
   "source": [
    "print(\"2\" + \"2\") # 22\n",
    "print((55 * 45 / 22) + (12 / 3 * 2)) # 120.5"
   ]
  },
  {
   "cell_type": "markdown",
   "id": "0275f2a1",
   "metadata": {},
   "source": [
    "Es posible sumar también dos cadenas de texto, pero la suma no será aritmética, sino que se unirán ambas cadenas en una."
   ]
  },
  {
   "cell_type": "code",
   "execution_count": 14,
   "id": "74e3eeea",
   "metadata": {},
   "outputs": [
    {
     "name": "stdout",
     "output_type": "stream",
     "text": [
      "El resultado de 10 + 5 es: 15\n"
     ]
    }
   ],
   "source": [
    "a = 10\n",
    "b = 5\n",
    "resultado = a + b\n",
    "print(\"El resultado de 10 + 5 es:\", resultado)  # Salida: 15"
   ]
  },
  {
   "cell_type": "code",
   "execution_count": 13,
   "id": "b176f99f",
   "metadata": {},
   "outputs": [
    {
     "name": "stdout",
     "output_type": "stream",
     "text": [
      "El resultado de 7 + 3.2 es: 10.2\n"
     ]
    }
   ],
   "source": [
    "c = 7\n",
    "d = 3.2\n",
    "resultado_decimal = c + d\n",
    "print(\"El resultado de 7 + 3.2 es:\", resultado_decimal)  # Salida: 10.2"
   ]
  },
  {
   "cell_type": "code",
   "execution_count": 10,
   "id": "9fa0874e",
   "metadata": {},
   "outputs": [
    {
     "name": "stdout",
     "output_type": "stream",
     "text": [
      "El resultado de 5 + 10 + 15 es: 30\n"
     ]
    }
   ],
   "source": [
    "x = 5\n",
    "y = 10\n",
    "z = 15\n",
    "resultado_multiple = x + y + z\n",
    "print(\"El resultado de 5 + 10 + 15 es:\", resultado_multiple)  # Salida: 30"
   ]
  },
  {
   "cell_type": "markdown",
   "id": "34fa2497",
   "metadata": {},
   "source": [
    "Operador -\n",
    "=======================\n",
    "El operador - resta los números presentes a la izquierda y derecha del operador. A diferencia el operador + en este caso no podemos restar cadenas o listas."
   ]
  },
  {
   "cell_type": "code",
   "execution_count": 5,
   "id": "df1e07f4",
   "metadata": {},
   "outputs": [
    {
     "name": "stdout",
     "output_type": "stream",
     "text": [
      "El resultado de 10 - 3 es: 7\n"
     ]
    }
   ],
   "source": [
    "a = 10\n",
    "b = 3\n",
    "resultado = a - b\n",
    "print(\"El resultado de 10 - 3 es:\", resultado)  # Salida: 7"
   ]
  },
  {
   "cell_type": "code",
   "execution_count": 6,
   "id": "ee5ab429",
   "metadata": {},
   "outputs": [
    {
     "name": "stdout",
     "output_type": "stream",
     "text": [
      "El resultado de 5 - 8 es: -3\n"
     ]
    }
   ],
   "source": [
    "c = 5\n",
    "d = 8\n",
    "resultado_negativo = c - d\n",
    "print(\"El resultado de 5 - 8 es:\", resultado_negativo)  # Salida: -3"
   ]
  },
  {
   "cell_type": "code",
   "execution_count": 8,
   "id": "9e195cdd",
   "metadata": {},
   "outputs": [
    {
     "name": "stdout",
     "output_type": "stream",
     "text": [
      "El resultado de 9.5 - 2.5 es: 7.0\n"
     ]
    }
   ],
   "source": [
    "f = 9.5\n",
    "g = 2.5\n",
    "resultado_decimal = f - g\n",
    "print(\"El resultado de 9.5 - 2.5 es:\", resultado_decimal)  # Salida: 7.0"
   ]
  },
  {
   "cell_type": "markdown",
   "id": "fdd398bd",
   "metadata": {},
   "source": [
    "Operador *\n",
    "=======================\n",
    "El operador * multiplica los números presentes a la izquierda y derecha del operador."
   ]
  },
  {
   "cell_type": "code",
   "execution_count": 15,
   "id": "380581a0",
   "metadata": {},
   "outputs": [
    {
     "name": "stdout",
     "output_type": "stream",
     "text": [
      "30\n"
     ]
    }
   ],
   "source": [
    "print(10 * 3) #30"
   ]
  },
  {
   "cell_type": "markdown",
   "id": "e4557c2b",
   "metadata": {},
   "source": [
    "Como también pasaba con el operador + podemos hacer cosas “raras” con *. Por ejemplo, multiplicar una cadena de texto por un número, lo que nos devolverá la cadena de texto repetida tantas veces como el número que hemos multiplicado."
   ]
  },
  {
   "cell_type": "code",
   "execution_count": 16,
   "id": "b0142015",
   "metadata": {},
   "outputs": [
    {
     "name": "stdout",
     "output_type": "stream",
     "text": [
      "HolaHolaHola\n"
     ]
    }
   ],
   "source": [
    "print(\"Hola\" * 3) #HolaHolaHola"
   ]
  },
  {
   "cell_type": "code",
   "execution_count": null,
   "id": "5c4549ba",
   "metadata": {},
   "outputs": [],
   "source": [
    "ancho = 5\n",
    "altura = 10\n",
    "area_rectangulo = ancho * altura\n",
    "print(\"El área del rectángulo es:\", area_rectangulo)  # Salida: 50"
   ]
  },
  {
   "cell_type": "code",
   "execution_count": null,
   "id": "1deaaa36",
   "metadata": {},
   "outputs": [],
   "source": [
    "precio_por_unidad = 29.99\n",
    "cantidad = 3\n",
    "costo_total = precio_por_unidad * cantidad\n",
    "print(\"El costo total de los productos es:\", costo_total)  # Salida: 89.97"
   ]
  },
  {
   "cell_type": "code",
   "execution_count": null,
   "id": "b96c59fc",
   "metadata": {},
   "outputs": [],
   "source": [
    "minutos = 5\n",
    "segundos_por_minuto = 60\n",
    "total_segundos = minutos * segundos_por_minuto\n",
    "print(\"Total de segundos en 5 minutos:\", total_segundos)  # Salida: 300"
   ]
  },
  {
   "cell_type": "markdown",
   "id": "43e0544c",
   "metadata": {},
   "source": [
    "Operador /\n",
    "=======================\n",
    "El operador / divide los números presentes a la izquierda y derecha del operador. Un aspecto importante a tener en cuenta es que si se realiza una división cuyo resultado no es entero (es decimal) podríamos tener problemas. En Python 3 esto no supone un problema porque el mismo se encarga de convertir los números y el resultado que se muestra si es decimal."
   ]
  },
  {
   "cell_type": "code",
   "execution_count": 17,
   "id": "b136acbb",
   "metadata": {},
   "outputs": [
    {
     "name": "stdout",
     "output_type": "stream",
     "text": [
      "3.3333333333333335\n",
      "0.5\n"
     ]
    }
   ],
   "source": [
    "print(10/3) #3.3333333333333335\n",
    "print(1/2)  #0.5"
   ]
  },
  {
   "cell_type": "code",
   "execution_count": 19,
   "id": "6b6e5a74",
   "metadata": {},
   "outputs": [
    {
     "name": "stdout",
     "output_type": "stream",
     "text": [
      "El promedio de calificaciones es: 75.0\n"
     ]
    }
   ],
   "source": [
    "suma_de_calificaciones = 375\n",
    "numero_de_estudiantes = 5\n",
    "promedio_calificaciones = suma_de_calificaciones / numero_de_estudiantes\n",
    "print(\"El promedio de calificaciones es:\", promedio_calificaciones)  # Salida: 75.0"
   ]
  },
  {
   "cell_type": "code",
   "execution_count": 18,
   "id": "c11e4705",
   "metadata": {},
   "outputs": [
    {
     "name": "stdout",
     "output_type": "stream",
     "text": [
      "Presupuesto asignado por proyecto: 5000.0\n"
     ]
    }
   ],
   "source": [
    "presupuesto_total = 20000\n",
    "numero_de_proyectos = 4\n",
    "presupuesto_por_proyecto = presupuesto_total / numero_de_proyectos\n",
    "print(\"Presupuesto asignado por proyecto:\", presupuesto_por_proyecto)  # Salida: 5000.0"
   ]
  },
  {
   "cell_type": "code",
   "execution_count": 20,
   "id": "90821231",
   "metadata": {},
   "outputs": [
    {
     "name": "stdout",
     "output_type": "stream",
     "text": [
      "Consumo de combustible por kilómetro: 12.0\n"
     ]
    }
   ],
   "source": [
    "kilometros_recorridos = 300\n",
    "litros_consumidos = 25\n",
    "consumo_por_kilometro = kilometros_recorridos / litros_consumidos\n",
    "print(\"Consumo de combustible por kilómetro:\", consumo_por_kilometro)  # Salida: 12.0"
   ]
  },
  {
   "cell_type": "markdown",
   "id": "fb3e4299",
   "metadata": {},
   "source": [
    "Operador %\n",
    "=======================\n",
    "El operador % realiza la operación módulo entre los números presentes a la izquierda y la derecha. Se trata de calcular el resto de la división entera entre ambos números. Es decir, si dividimos 10 entre 3, el cociente sería 3 y el resto 1. Ese resto es lo que calcula el módulo."
   ]
  },
  {
   "cell_type": "code",
   "execution_count": 21,
   "id": "d8d75782",
   "metadata": {},
   "outputs": [
    {
     "name": "stdout",
     "output_type": "stream",
     "text": [
      "1\n",
      "0\n"
     ]
    }
   ],
   "source": [
    "print(10%3) # 1\n",
    "print(10%2) # 0"
   ]
  },
  {
   "cell_type": "code",
   "execution_count": 25,
   "id": "8ec3ba6b",
   "metadata": {},
   "outputs": [
    {
     "name": "stdout",
     "output_type": "stream",
     "text": [
      "El último dígito es: 6\n"
     ]
    }
   ],
   "source": [
    "# Obtener el último dígito del número 456\n",
    "ultimo_digito = 456 % 10\n",
    "print(\"El último dígito es:\", ultimo_digito)  # Salida: 6"
   ]
  },
  {
   "cell_type": "code",
   "execution_count": 26,
   "id": "98bac211",
   "metadata": {},
   "outputs": [
    {
     "name": "stdout",
     "output_type": "stream",
     "text": [
      "True\n"
     ]
    }
   ],
   "source": [
    "# Verificar si 15 es divisible por 3\n",
    "print(15 % 3 == 0)  # Salida: True"
   ]
  },
  {
   "cell_type": "markdown",
   "id": "c786ba16",
   "metadata": {},
   "source": [
    "Operador **\n",
    "=======================\n",
    "El operador ** realiza el exponente del número a la izquierda elevado al número de la derecha."
   ]
  },
  {
   "cell_type": "code",
   "execution_count": 24,
   "id": "8c989113",
   "metadata": {},
   "outputs": [
    {
     "name": "stdout",
     "output_type": "stream",
     "text": [
      "1000\n",
      "4\n",
      "1024\n",
      "1\n",
      "43556142965880123323311949751266331066368\n"
     ]
    }
   ],
   "source": [
    "print(10**3) # 1000\n",
    "print(2**2)  #4\n",
    "print(2**10) # 1024\n",
    "print(2**0)  #1\n",
    "print(8**45) #35184372088832"
   ]
  },
  {
   "cell_type": "markdown",
   "id": "bf7cb9b9",
   "metadata": {},
   "source": [
    "Operador //\n",
    "=======================\n",
    "Por último, el operador // calcula el cociente de la división entre los números que están a su izquierda y derecha."
   ]
  },
  {
   "cell_type": "code",
   "execution_count": 27,
   "id": "f1100ba6",
   "metadata": {},
   "outputs": [
    {
     "name": "stdout",
     "output_type": "stream",
     "text": [
      "3\n",
      "1\n"
     ]
    }
   ],
   "source": [
    "print(10//3)  #3\n",
    "print(10//10) #1"
   ]
  },
  {
   "cell_type": "code",
   "execution_count": 28,
   "id": "3d758486",
   "metadata": {},
   "outputs": [
    {
     "name": "stdout",
     "output_type": "stream",
     "text": [
      "Cajas necesarias: 4\n"
     ]
    }
   ],
   "source": [
    "# Calcular cuántas cajas se necesitan para 120 artículos, si cada caja puede contener 25 artículos.\n",
    "total_articulos = 120\n",
    "capacidad_caja = 25\n",
    "cajas_necesarias = total_articulos // capacidad_caja\n",
    "print(\"Cajas necesarias:\", cajas_necesarias)  # Salida: 4"
   ]
  },
  {
   "cell_type": "code",
   "execution_count": 29,
   "id": "cdc5e5a7",
   "metadata": {},
   "outputs": [
    {
     "name": "stdout",
     "output_type": "stream",
     "text": [
      "Horas completas: 7\n"
     ]
    }
   ],
   "source": [
    "# Convertir 450 minutos a horas completas\n",
    "minutos = 450\n",
    "horas = minutos // 60\n",
    "print(\"Horas completas:\", horas)  # Salida: 7"
   ]
  },
  {
   "cell_type": "code",
   "execution_count": 30,
   "id": "8aa23b9f",
   "metadata": {},
   "outputs": [
    {
     "name": "stdout",
     "output_type": "stream",
     "text": [
      "Dinero que recibe cada persona: 166\n"
     ]
    }
   ],
   "source": [
    "# Dividir $500 entre 3 personas equitativamente\n",
    "total_dinero = 500\n",
    "numero_personas = 3\n",
    "dinero_por_persona = total_dinero // numero_personas\n",
    "print(\"Dinero que recibe cada persona:\", dinero_por_persona)  # Salida: 166"
   ]
  },
  {
   "cell_type": "markdown",
   "id": "65784830",
   "metadata": {},
   "source": [
    "Orden de aplicación\n",
    "=======================\n",
    "En los ejemplos anteriores simplemente se ha aplicado un operador a dos números sin mezclarlos entre ellos. Pero en la vida real, es muy común que se mezclen varios operadores en una misma linea de codigo. En estos casos, Python sigue un orden de aplicación de los operadores."
   ]
  },
  {
   "cell_type": "markdown",
   "id": "293d1fb5",
   "metadata": {},
   "source": [
    "El termino PEMDAS es un acrónimo que se utiliza para recordar el orden en el que las operaciones matemáticas deben ser evaluadas.  \n",
    "\n",
    "- **P**arentheses (Paréntesis)\n",
    "- **E**xponents (Exponentes)\n",
    "- **M**ultiplication (Multiplicación)\n",
    "- **D**ivision (División)\n",
    "- **A**ddition (Suma)\n",
    "- **S**ubtraction (Resta)\n",
    "\n",
    "Este acrónimo nos ayuda a recordar el orden en que Python evalúa las operaciones matemáticas. Por ejemplo, en la expresión `2 + 3 * 4`, Python primero multiplicará `3 * 4` y luego sumará `2` al resultado."
   ]
  },
  {
   "cell_type": "code",
   "execution_count": 32,
   "id": "d9d768d1",
   "metadata": {},
   "outputs": [
    {
     "name": "stdout",
     "output_type": "stream",
     "text": [
      "80\n",
      "53\n",
      "10.4\n",
      "-16\n"
     ]
    }
   ],
   "source": [
    "print(10*(5+3)) # Con paréntesis se realiza primero la suma\n",
    "print(10*5+3)   # Sin paréntesis se realiza primero la multiplicación\n",
    "print(3*3+2/5+5%4) # Primero se multiplica y divide, después se suma\n",
    "print(-2**4)       # Primero se hace la potencia, después se aplica el signo"
   ]
  },
  {
   "cell_type": "markdown",
   "id": "aae38184",
   "metadata": {},
   "source": [
    "🔥Estan preparados para el siguiente Reto?"
   ]
  }
 ],
 "metadata": {
  "kernelspec": {
   "display_name": "Python 3",
   "language": "python",
   "name": "python3"
  },
  "language_info": {
   "codemirror_mode": {
    "name": "ipython",
    "version": 3
   },
   "file_extension": ".py",
   "mimetype": "text/x-python",
   "name": "python",
   "nbconvert_exporter": "python",
   "pygments_lexer": "ipython3",
   "version": "3.10.10"
  }
 },
 "nbformat": 4,
 "nbformat_minor": 5
}
